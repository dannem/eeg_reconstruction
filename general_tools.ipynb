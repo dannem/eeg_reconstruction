{
 "cells": [
  {
   "cell_type": "code",
   "execution_count": null,
   "metadata": {},
   "outputs": [],
   "source": [
    "def find_folder():\n",
    "    import platform\n",
    "    if platform.system() == 'Darwin':\n",
    "        outfolder = '//Users/dannem/Documents/Ilya_study/Analysis'\n",
    "        infolder = '/Users/dannem/Documents/Ilya_study/Data'\n",
    "    else:\n",
    "        infolder = 'F:\\\\Data'\n",
    "        outfolder = 'F:\\\\EEG_analysis'\n",
    "    return (infolder, outfolder)\n",
    "        \n",
    "        \n",
    "    "
   ]
  }
 ],
 "metadata": {
  "kernelspec": {
   "display_name": "Python 3",
   "language": "python",
   "name": "python3"
  },
  "language_info": {
   "codemirror_mode": {
    "name": "ipython",
    "version": 3
   },
   "file_extension": ".py",
   "mimetype": "text/x-python",
   "name": "python",
   "nbconvert_exporter": "python",
   "pygments_lexer": "ipython3",
   "version": "3.6.8"
  }
 },
 "nbformat": 4,
 "nbformat_minor": 2
}
